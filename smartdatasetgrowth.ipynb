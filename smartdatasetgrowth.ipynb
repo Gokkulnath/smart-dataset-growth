{
  "nbformat": 4,
  "nbformat_minor": 0,
  "metadata": {
    "colab": {
      "name": "smartdatasetgrowth.ipynb",
      "version": "0.3.2",
      "views": {},
      "default_view": {},
      "provenance": []
    },
    "kernelspec": {
      "name": "python3",
      "display_name": "Python 3"
    }
  },
  "cells": [
    {
      "metadata": {
        "id": "g1jf_JW0oE-8",
        "colab_type": "code",
        "colab": {
          "autoexec": {
            "startup": false,
            "wait_interval": 0
          }
        }
      },
      "cell_type": "code",
      "source": [
        ""
      ],
      "execution_count": 0,
      "outputs": []
    },
    {
      "metadata": {
        "id": "_abPDulLoKIU",
        "colab_type": "text"
      },
      "cell_type": "markdown",
      "source": [
        "Hey everyone!\n",
        "I welcome you all. Keeping it short. So I've created a Colab file which will help us work on this project together and manage stuffs easily. Leave you mail ID in the spreadsheet and I'll send you an invite."
      ]
    }
  ]
}